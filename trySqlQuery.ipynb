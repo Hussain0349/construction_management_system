{
 "cells": [
  {
   "cell_type": "code",
   "execution_count": null,
   "metadata": {
    "vscode": {
     "languageId": "sql"
    }
   },
   "outputs": [],
   "source": [
    "delete from construction_record where material_name ='sand'\n",
    "\n",
    "delete from construction_record where user_name = 'Hussain' and category ='finising'\n",
    "\n",
    "TRUNCATE TABLE construction_record\n",
    "\n"
   ]
  }
 ],
 "metadata": {
  "language_info": {
   "name": "python"
  }
 },
 "nbformat": 4,
 "nbformat_minor": 2
}
